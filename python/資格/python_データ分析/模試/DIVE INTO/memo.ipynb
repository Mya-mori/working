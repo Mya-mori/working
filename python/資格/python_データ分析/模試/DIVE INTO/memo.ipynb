{
 "cells": [
  {
   "cell_type": "code",
   "execution_count": 1,
   "metadata": {},
   "outputs": [
    {
     "data": {
      "text/plain": [
       "array([ True,  True,  True,  True])"
      ]
     },
     "execution_count": 1,
     "metadata": {},
     "output_type": "execute_result"
    }
   ],
   "source": [
    "#1\n",
    "import numpy as np\n",
    "\n",
    "A = np.linspace(0, 2, 5)\n",
    "B = np.diff(A)*2\n",
    "B == np.ones(4)"
   ]
  },
  {
   "cell_type": "code",
   "execution_count": 2,
   "metadata": {},
   "outputs": [
    {
     "data": {
      "text/plain": [
       "array([1., 1., 1., 1.])"
      ]
     },
     "execution_count": 2,
     "metadata": {},
     "output_type": "execute_result"
    }
   ],
   "source": [
    "#np.diff()\n",
    "#数値差分を求める\n",
    "#np.linspace(0, 2, 5)\n",
    "#[0. , 0.5, 1. , 1.5, 2. ]の差分\n",
    "A = np.linspace(0, 2, 5)\n",
    "np.diff(A)*2"
   ]
  },
  {
   "cell_type": "code",
   "execution_count": 3,
   "metadata": {},
   "outputs": [
    {
     "data": {
      "text/plain": [
       "array([1])"
      ]
     },
     "execution_count": 3,
     "metadata": {},
     "output_type": "execute_result"
    }
   ],
   "source": [
    "#2\n",
    "#A @ B AとBのdot積\n",
    "#np.dot(A, B)も同様\n",
    "import numpy as np\n",
    "\n",
    "A = np.array([[1, 0]]) #1行2列\n",
    "B = np.array([1, 0]) #2行1列\n",
    "\n",
    "A @ B"
   ]
  },
  {
   "cell_type": "code",
   "execution_count": 4,
   "metadata": {},
   "outputs": [
    {
     "data": {
      "text/plain": [
       "array([1, 0])"
      ]
     },
     "execution_count": 4,
     "metadata": {},
     "output_type": "execute_result"
    }
   ],
   "source": [
    "B"
   ]
  },
  {
   "cell_type": "code",
   "execution_count": 5,
   "metadata": {},
   "outputs": [
    {
     "data": {
      "text/plain": [
       "3"
      ]
     },
     "execution_count": 5,
     "metadata": {},
     "output_type": "execute_result"
    }
   ],
   "source": [
    "#3\n",
    "#np.full((1, 5), 2) #1行5列の2を入れた配列\n",
    "#np.sum(A >= B) #Trueが1とされ, その数をカウントする\n",
    "import numpy as np\n",
    "\n",
    "A = np.array([[0, 1, 2, 3, 4]])\n",
    "B = np.full((1, 5), 2)\n",
    "np.sum(A >= B)"
   ]
  },
  {
   "cell_type": "code",
   "execution_count": 6,
   "metadata": {},
   "outputs": [
    {
     "name": "stdout",
     "output_type": "stream",
     "text": [
      "5.5\n"
     ]
    }
   ],
   "source": [
    "#4\n",
    "ans = 0\n",
    "for i in range(1, 11):\n",
    "    ans += i*1/10\n",
    "print(ans)"
   ]
  },
  {
   "cell_type": "markdown",
   "metadata": {},
   "source": [
    "5 \\\n",
    "シェルで \"deactivate\" と入力することで仮想環境を無効化 \\\n",
    "```sh\n",
    "$deactivate\n",
    "```"
   ]
  },
  {
   "cell_type": "code",
   "execution_count": 7,
   "metadata": {},
   "outputs": [
    {
     "data": {
      "text/plain": [
       "<AxesSubplot:>"
      ]
     },
     "execution_count": 7,
     "metadata": {},
     "output_type": "execute_result"
    },
    {
     "data": {
      "image/png": "[encoded data removed]",
      "text/plain": [
       "<Figure size 432x288 with 1 Axes>"
      ]
     },
     "metadata": {
      "needs_background": "light"
     },
     "output_type": "display_data"
    }
   ],
   "source": [
    "#6\n",
    "import pandas as pd\n",
    "import warnings\n",
    "warnings.simplefilter('ignore')\n",
    "\n",
    "df = pd.DataFrame(\n",
    "    {\n",
    "        \"id\" : [0, 1, 2, 3, 4],\n",
    "        \"性別\" : [\"男性\", \"女性\", \"男性\", \"女性\", \"男性\"]\n",
    "    }\n",
    ")\n",
    "\n",
    "df[\"性別\"].value_counts().plot.bar()"
   ]
  },
  {
   "cell_type": "code",
   "execution_count": 8,
   "metadata": {},
   "outputs": [
    {
     "name": "stdout",
     "output_type": "stream",
     "text": [
      "a (3, 2)\n",
      "b (2, 3)\n",
      "[[  0   1  10]\n",
      " [  0  10 100]\n",
      " [  0  11 110]]\n",
      "[[  0   1  10]\n",
      " [  0  10 100]\n",
      " [  0  11 110]]\n",
      "[[  0   1  10]\n",
      " [  0  10 100]\n",
      " [  0  11 110]]\n"
     ]
    }
   ],
   "source": [
    "#7\n",
    "import numpy as np\n",
    "\n",
    "a = np.array([[0, 1, 10], [0, 1, 10]])\n",
    "b = a.copy()\n",
    "a = a.reshape(3, 2)\n",
    "print(\"a\", a.shape)\n",
    "print(\"b\", b.shape)\n",
    "\n",
    "print(np.dot(a, b))\n",
    "print(a @ b)\n",
    "print(np.matmul(a, b))"
   ]
  },
  {
   "cell_type": "code",
   "execution_count": 9,
   "metadata": {},
   "outputs": [
    {
     "data": {
      "text/html": [
       "<div>\n",
       "<style scoped>\n",
       "    .dataframe tbody tr th:only-of-type {\n",
       "        vertical-align: middle;\n",
       "    }\n",
       "\n",
       "    .dataframe tbody tr th {\n",
       "        vertical-align: top;\n",
       "    }\n",
       "\n",
       "    .dataframe thead th {\n",
       "        text-align: right;\n",
       "    }\n",
       "</style>\n",
       "<table border=\"1\" class=\"dataframe\">\n",
       "  <thead>\n",
       "    <tr style=\"text-align: right;\">\n",
       "      <th></th>\n",
       "      <th>日付</th>\n",
       "      <th>始値</th>\n",
       "      <th>終値</th>\n",
       "      <th>増減</th>\n",
       "    </tr>\n",
       "  </thead>\n",
       "  <tbody>\n",
       "    <tr>\n",
       "      <th>0</th>\n",
       "      <td>2020/01/01</td>\n",
       "      <td>12334</td>\n",
       "      <td>12934</td>\n",
       "      <td>600</td>\n",
       "    </tr>\n",
       "    <tr>\n",
       "      <th>1</th>\n",
       "      <td>2020/01/02</td>\n",
       "      <td>12313</td>\n",
       "      <td>12345</td>\n",
       "      <td>32</td>\n",
       "    </tr>\n",
       "    <tr>\n",
       "      <th>2</th>\n",
       "      <td>2020/01/03</td>\n",
       "      <td>17352</td>\n",
       "      <td>16543</td>\n",
       "      <td>-809</td>\n",
       "    </tr>\n",
       "    <tr>\n",
       "      <th>3</th>\n",
       "      <td>2020/01/04</td>\n",
       "      <td>12342</td>\n",
       "      <td>11322</td>\n",
       "      <td>-1020</td>\n",
       "    </tr>\n",
       "    <tr>\n",
       "      <th>4</th>\n",
       "      <td>2020/01/05</td>\n",
       "      <td>13345</td>\n",
       "      <td>21111</td>\n",
       "      <td>7766</td>\n",
       "    </tr>\n",
       "  </tbody>\n",
       "</table>\n",
       "</div>"
      ],
      "text/plain": [
       "           日付     始値     終値    増減\n",
       "0  2020/01/01  12334  12934   600\n",
       "1  2020/01/02  12313  12345    32\n",
       "2  2020/01/03  17352  16543  -809\n",
       "3  2020/01/04  12342  11322 -1020\n",
       "4  2020/01/05  13345  21111  7766"
      ]
     },
     "execution_count": 9,
     "metadata": {},
     "output_type": "execute_result"
    }
   ],
   "source": [
    "#8\n",
    "import pandas as pd\n",
    "\n",
    "df = pd.DataFrame(\n",
    "    {\n",
    "        \"日付\" : [\"2020/01/01\", \"2020/01/02\", \"2020/01/03\", \"2020/01/04\", \"2020/01/05\"],\n",
    "        \"始値\" : [12334, 12313, 17352, 12342, 13345],\n",
    "        \"終値\" : [12934, 12345, 16543, 11322, 21111]\n",
    "    }\n",
    ")\n",
    "# df[\"増減\"] = df[\"終値\"] - df[\"始値\"]\n",
    "df.loc[:, \"増減\"] = df.loc[:,\"終値\"] - df.loc[:,\"始値\"]\n",
    "df"
   ]
  },
  {
   "cell_type": "code",
   "execution_count": 10,
   "metadata": {},
   "outputs": [
    {
     "data": {
      "text/html": [
       "<div>\n",
       "<style scoped>\n",
       "    .dataframe tbody tr th:only-of-type {\n",
       "        vertical-align: middle;\n",
       "    }\n",
       "\n",
       "    .dataframe tbody tr th {\n",
       "        vertical-align: top;\n",
       "    }\n",
       "\n",
       "    .dataframe thead th {\n",
       "        text-align: right;\n",
       "    }\n",
       "</style>\n",
       "<table border=\"1\" class=\"dataframe\">\n",
       "  <thead>\n",
       "    <tr style=\"text-align: right;\">\n",
       "      <th></th>\n",
       "      <th>a</th>\n",
       "      <th>b</th>\n",
       "      <th>c</th>\n",
       "    </tr>\n",
       "  </thead>\n",
       "  <tbody>\n",
       "    <tr>\n",
       "      <th>0</th>\n",
       "      <td>10</td>\n",
       "      <td>10</td>\n",
       "      <td>10</td>\n",
       "    </tr>\n",
       "    <tr>\n",
       "      <th>1</th>\n",
       "      <td>100</td>\n",
       "      <td>20</td>\n",
       "      <td>1</td>\n",
       "    </tr>\n",
       "    <tr>\n",
       "      <th>2</th>\n",
       "      <td>10</td>\n",
       "      <td>10</td>\n",
       "      <td>10</td>\n",
       "    </tr>\n",
       "    <tr>\n",
       "      <th>3</th>\n",
       "      <td>100</td>\n",
       "      <td>20</td>\n",
       "      <td>1</td>\n",
       "    </tr>\n",
       "  </tbody>\n",
       "</table>\n",
       "</div>"
      ],
      "text/plain": [
       "     a   b   c\n",
       "0   10  10  10\n",
       "1  100  20   1\n",
       "2   10  10  10\n",
       "3  100  20   1"
      ]
     },
     "execution_count": 10,
     "metadata": {},
     "output_type": "execute_result"
    }
   ],
   "source": [
    "#9\n",
    "import pandas as pd\n",
    "\n",
    "df_1 = pd.DataFrame({'a': [10, 100], 'b': [10, 20], 'c': [10, 1]})\n",
    "df_2 = pd.DataFrame({'a': [10, 100], 'b': [10, 20], 'c': [10, 1]})\n",
    "#pd.concat([df_1, df_2], axis=0).reset_index() #indexの追加, 元のindexは列になる\n",
    "pd.concat([df_1, df_2], axis=0).reset_index(drop = True) #index列を削除"
   ]
  },
  {
   "cell_type": "code",
   "execution_count": null,
   "metadata": {},
   "outputs": [],
   "source": [
    "#10\n",
    "import numpy\n",
    "#一様分布の乱数生成\n",
    "numpy.random.rand() #0.0以上、1.0未満\n",
    "numpy.random.random() #0.0以上、1.0未満\n",
    "numpy.random.randint() #任意の範囲の整数\n",
    "\n",
    "#正規分布の乱数生成\n",
    "numpy.random.randn() #平均0、分散1（標準偏差1）\n",
    "numpy.random.normal() #任意の平均、標準偏差\n",
    "\n",
    "import random\n",
    "#乱数\n",
    "random.random() #0.0以上、1.0未満\n",
    "random.uniform() #任意の範囲の整数\n"
   ]
  },
  {
   "cell_type": "code",
   "execution_count": 12,
   "metadata": {},
   "outputs": [
    {
     "data": {
      "text/html": [
       "<div>\n",
       "<style scoped>\n",
       "    .dataframe tbody tr th:only-of-type {\n",
       "        vertical-align: middle;\n",
       "    }\n",
       "\n",
       "    .dataframe tbody tr th {\n",
       "        vertical-align: top;\n",
       "    }\n",
       "\n",
       "    .dataframe thead th {\n",
       "        text-align: right;\n",
       "    }\n",
       "</style>\n",
       "<table border=\"1\" class=\"dataframe\">\n",
       "  <thead>\n",
       "    <tr style=\"text-align: right;\">\n",
       "      <th></th>\n",
       "      <th>日付</th>\n",
       "      <th>始値</th>\n",
       "      <th>終値</th>\n",
       "    </tr>\n",
       "  </thead>\n",
       "  <tbody>\n",
       "    <tr>\n",
       "      <th>0</th>\n",
       "      <td>2020/01/01</td>\n",
       "      <td>12345</td>\n",
       "      <td>12334</td>\n",
       "    </tr>\n",
       "    <tr>\n",
       "      <th>1</th>\n",
       "      <td>2020/01/02</td>\n",
       "      <td>23456</td>\n",
       "      <td>12313</td>\n",
       "    </tr>\n",
       "    <tr>\n",
       "      <th>2</th>\n",
       "      <td>2020/01/03</td>\n",
       "      <td>32141</td>\n",
       "      <td>17352</td>\n",
       "    </tr>\n",
       "    <tr>\n",
       "      <th>3</th>\n",
       "      <td>2020/01/04</td>\n",
       "      <td>23414</td>\n",
       "      <td>12342</td>\n",
       "    </tr>\n",
       "    <tr>\n",
       "      <th>4</th>\n",
       "      <td>2020/01/05</td>\n",
       "      <td>21131</td>\n",
       "      <td>13345</td>\n",
       "    </tr>\n",
       "  </tbody>\n",
       "</table>\n",
       "</div>"
      ],
      "text/plain": [
       "           日付     始値     終値\n",
       "0  2020/01/01  12345  12334\n",
       "1  2020/01/02  23456  12313\n",
       "2  2020/01/03  32141  17352\n",
       "3  2020/01/04  23414  12342\n",
       "4  2020/01/05  21131  13345"
      ]
     },
     "execution_count": 12,
     "metadata": {},
     "output_type": "execute_result"
    }
   ],
   "source": [
    "#11\n",
    "import pandas as pd\n",
    "\n",
    "df = pd.DataFrame(\n",
    "    {\n",
    "        \"日付\" : [\"2020/01/01\", \"2020/01/02\", \"2020/01/03\", \"2020/01/04\", \"2020/01/05\"],\n",
    "        \"始値\" : [12345, 23456, 32141, 23414, 21131],\n",
    "        \"終値\" : [12334, 12313, 17352, 12342, 13345]\n",
    "    }\n",
    ")\n",
    "\n",
    "df"
   ]
  },
  {
   "cell_type": "code",
   "execution_count": 13,
   "metadata": {},
   "outputs": [
    {
     "data": {
      "text/html": [
       "<div>\n",
       "<style scoped>\n",
       "    .dataframe tbody tr th:only-of-type {\n",
       "        vertical-align: middle;\n",
       "    }\n",
       "\n",
       "    .dataframe tbody tr th {\n",
       "        vertical-align: top;\n",
       "    }\n",
       "\n",
       "    .dataframe thead th {\n",
       "        text-align: right;\n",
       "    }\n",
       "</style>\n",
       "<table border=\"1\" class=\"dataframe\">\n",
       "  <thead>\n",
       "    <tr style=\"text-align: right;\">\n",
       "      <th></th>\n",
       "      <th>始値</th>\n",
       "      <th>終値</th>\n",
       "    </tr>\n",
       "    <tr>\n",
       "      <th>日付</th>\n",
       "      <th></th>\n",
       "      <th></th>\n",
       "    </tr>\n",
       "  </thead>\n",
       "  <tbody>\n",
       "    <tr>\n",
       "      <th>2020/01/01</th>\n",
       "      <td>12345</td>\n",
       "      <td>12334</td>\n",
       "    </tr>\n",
       "    <tr>\n",
       "      <th>2020/01/02</th>\n",
       "      <td>23456</td>\n",
       "      <td>12313</td>\n",
       "    </tr>\n",
       "    <tr>\n",
       "      <th>2020/01/03</th>\n",
       "      <td>32141</td>\n",
       "      <td>17352</td>\n",
       "    </tr>\n",
       "    <tr>\n",
       "      <th>2020/01/04</th>\n",
       "      <td>23414</td>\n",
       "      <td>12342</td>\n",
       "    </tr>\n",
       "    <tr>\n",
       "      <th>2020/01/05</th>\n",
       "      <td>21131</td>\n",
       "      <td>13345</td>\n",
       "    </tr>\n",
       "  </tbody>\n",
       "</table>\n",
       "</div>"
      ],
      "text/plain": [
       "               始値     終値\n",
       "日付                      \n",
       "2020/01/01  12345  12334\n",
       "2020/01/02  23456  12313\n",
       "2020/01/03  32141  17352\n",
       "2020/01/04  23414  12342\n",
       "2020/01/05  21131  13345"
      ]
     },
     "execution_count": 13,
     "metadata": {},
     "output_type": "execute_result"
    }
   ],
   "source": [
    "df.set_index(\"日付\") #日付をindexにする"
   ]
  },
  {
   "cell_type": "code",
   "execution_count": 14,
   "metadata": {},
   "outputs": [
    {
     "data": {
      "text/html": [
       "<div>\n",
       "<style scoped>\n",
       "    .dataframe tbody tr th:only-of-type {\n",
       "        vertical-align: middle;\n",
       "    }\n",
       "\n",
       "    .dataframe tbody tr th {\n",
       "        vertical-align: top;\n",
       "    }\n",
       "\n",
       "    .dataframe thead th {\n",
       "        text-align: right;\n",
       "    }\n",
       "</style>\n",
       "<table border=\"1\" class=\"dataframe\">\n",
       "  <thead>\n",
       "    <tr style=\"text-align: right;\">\n",
       "      <th></th>\n",
       "      <th>日付</th>\n",
       "      <th>始値</th>\n",
       "      <th>終値</th>\n",
       "    </tr>\n",
       "  </thead>\n",
       "  <tbody>\n",
       "    <tr>\n",
       "      <th>0</th>\n",
       "      <td>2020/01/01</td>\n",
       "      <td>12345</td>\n",
       "      <td>12334</td>\n",
       "    </tr>\n",
       "    <tr>\n",
       "      <th>1</th>\n",
       "      <td>2020/01/02</td>\n",
       "      <td>23456</td>\n",
       "      <td>12313</td>\n",
       "    </tr>\n",
       "    <tr>\n",
       "      <th>2</th>\n",
       "      <td>2020/01/03</td>\n",
       "      <td>32141</td>\n",
       "      <td>17352</td>\n",
       "    </tr>\n",
       "    <tr>\n",
       "      <th>3</th>\n",
       "      <td>2020/01/04</td>\n",
       "      <td>23414</td>\n",
       "      <td>12342</td>\n",
       "    </tr>\n",
       "    <tr>\n",
       "      <th>4</th>\n",
       "      <td>2020/01/05</td>\n",
       "      <td>21131</td>\n",
       "      <td>13345</td>\n",
       "    </tr>\n",
       "  </tbody>\n",
       "</table>\n",
       "</div>"
      ],
      "text/plain": [
       "           日付     始値     終値\n",
       "0  2020/01/01  12345  12334\n",
       "1  2020/01/02  23456  12313\n",
       "2  2020/01/03  32141  17352\n",
       "3  2020/01/04  23414  12342\n",
       "4  2020/01/05  21131  13345"
      ]
     },
     "execution_count": 14,
     "metadata": {},
     "output_type": "execute_result"
    }
   ],
   "source": [
    "df_1 = df.set_index(\"日付\") #日付をindexにする\n",
    "df_1.reset_index() #indexを元に戻す"
   ]
  },
  {
   "cell_type": "markdown",
   "metadata": {},
   "source": [
    "#12\n",
    "```bash\n",
    "!pip list\n",
    "!pip freeze\n",
    "```\n",
    "\n",
    "インストール済みのパッケージ一覧を確認"
   ]
  },
  {
   "cell_type": "code",
   "execution_count": 36,
   "metadata": {},
   "outputs": [
    {
     "name": "stdout",
     "output_type": "stream",
     "text": [
      "None\n"
     ]
    }
   ],
   "source": [
    "#13\n",
    "A = [x for x in range(10)]\n",
    "B = {x for x in range(20)}\n",
    "\n",
    "if len(A)==11:\n",
    "    print(\"A\")\n",
    "elif len(A)==10 & len(B)==20: #&を使用する時は()が必要\n",
    "    print(\"A,B\")\n",
    "else:\n",
    "    print(\"None\")"
   ]
  },
  {
   "cell_type": "code",
   "execution_count": 35,
   "metadata": {},
   "outputs": [
    {
     "name": "stdout",
     "output_type": "stream",
     "text": [
      "A,B\n"
     ]
    }
   ],
   "source": [
    "A = [x for x in range(10)]\n",
    "B = {x for x in range(20)}\n",
    "\n",
    "if len(A)==11:\n",
    "    print(\"A\")\n",
    "elif len(A)==10 and len(B)==20:\n",
    "    print(\"A,B\")\n",
    "else:\n",
    "    print(\"None\")"
   ]
  },
  {
   "cell_type": "code",
   "execution_count": 51,
   "metadata": {},
   "outputs": [
    {
     "data": {
      "text/plain": [
       "array([[1., 0.],\n",
       "       [0., 1.],\n",
       "       [0., 0.],\n",
       "       [0., 0.]])"
      ]
     },
     "execution_count": 51,
     "metadata": {},
     "output_type": "execute_result"
    }
   ],
   "source": [
    "#14\n",
    "import numpy as np\n",
    "\n",
    "A = np.eye(4)\n",
    "first, second = np.hsplit(A, [2]) #Aを2列目までに分割\n",
    "first"
   ]
  },
  {
   "cell_type": "code",
   "execution_count": 84,
   "metadata": {},
   "outputs": [
    {
     "data": {
      "text/plain": [
       "A    2\n",
       "B    7\n",
       "Name: 1, dtype: int64"
      ]
     },
     "execution_count": 84,
     "metadata": {},
     "output_type": "execute_result"
    }
   ],
   "source": [
    "#15\n",
    "import pandas as pd\n",
    "\n",
    "df = pd.DataFrame(\n",
    "    {\n",
    "        \"A\":[1,2,3,4,5],\n",
    "        \"B\":[6,7,8,9,10]\n",
    "    }\n",
    ")\n",
    "\n",
    "df.iloc[1]"
   ]
  },
  {
   "cell_type": "code",
   "execution_count": 85,
   "metadata": {},
   "outputs": [
    {
     "data": {
      "text/plain": [
       "array([0, 0, 0])"
      ]
     },
     "execution_count": 85,
     "metadata": {},
     "output_type": "execute_result"
    }
   ],
   "source": [
    "#16\n",
    "import numpy as np\n",
    "\n",
    "A = np.array([[1,2,3],[4,5,6]])\n",
    "B = A[0,:]\n",
    "A[0,:]=0\n",
    "B"
   ]
  },
  {
   "cell_type": "code",
   "execution_count": 91,
   "metadata": {},
   "outputs": [
    {
     "data": {
      "text/plain": [
       "'DIVE INTO CODE'"
      ]
     },
     "execution_count": 91,
     "metadata": {},
     "output_type": "execute_result"
    }
   ],
   "source": [
    "\n",
    "#17\n",
    "s = \"DIVE INTO CODE\"\n",
    "s.strip()"
   ]
  },
  {
   "cell_type": "code",
   "execution_count": 92,
   "metadata": {},
   "outputs": [
    {
     "data": {
      "text/plain": [
       "'DIVEINTOCODE'"
      ]
     },
     "execution_count": 92,
     "metadata": {},
     "output_type": "execute_result"
    }
   ],
   "source": [
    "s = \"DIVE INTO CODE\"\n",
    "s.replace(\" \", \"\")"
   ]
  },
  {
   "cell_type": "code",
   "execution_count": 8,
   "metadata": {},
   "outputs": [
    {
     "name": "stdout",
     "output_type": "stream",
     "text": [
      "Python\n"
     ]
    },
    {
     "data": {
      "text/plain": [
       "\"\\nre.compile(r'py?(th|ers)oni?(a[lmn]|c)?', re.IGNORECASE)\\n・re.IGNORECASE → 大文字小文字を区別しない\\n・compile → 正規表現オブジェクト\\n・r → 文字列のエスケープを無効化\\n\\n・py? → p or py (y?は0もしくは1)\\n・(th|ers) → th or ers (thかersのどちらか)\\n・oni? → on or oni\\n・[lmn] → l or m or n\\n・a[lmn] → al or am or an\\n・(a[lmn]|c) → a[lmn] or c\\n・(a[lmn]|c)? → a[lmn] or c or なし\\n\""
      ]
     },
     "execution_count": 8,
     "metadata": {},
     "output_type": "execute_result"
    }
   ],
   "source": [
    "#18\n",
    "#正規表現\n",
    "import re\n",
    "prog = re.compile(r'py?(th|ers)oni?(a[lmn]|c)?', re.IGNORECASE)\n",
    "ret = prog.search('The Zen of Python')\n",
    "if ret is None:\n",
    "    print('エラー')\n",
    "else:\n",
    "    print(ret[0])\n",
    "\n",
    "\"\"\"\n",
    "re.compile(r'py?(th|ers)oni?(a[lmn]|c)?', re.IGNORECASE)\n",
    "・re.IGNORECASE → 大文字小文字を区別しない\n",
    "・compile → 正規表現オブジェクト\n",
    "・r → 文字列のエスケープを無効化\n",
    "\n",
    "・py? → p or py (y?は0もしくは1)\n",
    "・(th|ers) → th or ers (thかersのどちらか)\n",
    "・oni? → on or oni\n",
    "・[lmn] → l or m or n\n",
    "・a[lmn] → al or am or an\n",
    "・(a[lmn]|c) → a[lmn] or c\n",
    "・(a[lmn]|c)? → a[lmn] or c or なし\n",
    "\"\"\""
   ]
  },
  {
   "cell_type": "code",
   "execution_count": 23,
   "metadata": {},
   "outputs": [
    {
     "name": "stdout",
     "output_type": "stream",
     "text": [
      "2.718281828459045 1.0\n"
     ]
    }
   ],
   "source": [
    "import numpy as np\n",
    "a = np.full((1, 5), np.e).T.ravel()\n",
    "b = np.linspace(0, 1, 5)\n",
    "c = np.hstack([a, b])\n",
    "print(a[-1], c[-1])"
   ]
  },
  {
   "cell_type": "code",
   "execution_count": 24,
   "metadata": {},
   "outputs": [
    {
     "name": "stdout",
     "output_type": "stream",
     "text": [
      "14 [ 7 15]\n"
     ]
    }
   ],
   "source": [
    "import numpy as np\n",
    "a = np.array([1, 3])\n",
    "b = np.array([-1, 5])\n",
    "c = np.array([[1, 2], [3, 4]])\n",
    "d = a @ b #dot\n",
    "e = np.dot(c, a) #dot=[1*1 + 2*3, 3*1 + 4*3]\n",
    "print(d, e)"
   ]
  },
  {
   "cell_type": "code",
   "execution_count": 30,
   "metadata": {},
   "outputs": [
    {
     "data": {
      "text/plain": [
       "10"
      ]
     },
     "execution_count": 30,
     "metadata": {},
     "output_type": "execute_result"
    }
   ],
   "source": [
    "import pandas as pd\n",
    "df = pd.DataFrame([[15, \"a\", True],[20, \"b\", False],[10, \"c\", False]])\n",
    "df.index = [\"01\", \"02\", \"03\"]\n",
    "df.columns = [\"A\", \"B\", \"C\"]\n",
    "# df = df.loc[\"03\", \"A\"]\n",
    "# df = df.iloc[2, 0]\n",
    "df"
   ]
  },
  {
   "cell_type": "code",
   "execution_count": 36,
   "metadata": {},
   "outputs": [
    {
     "data": {
      "text/html": [
       "<div>\n",
       "<style scoped>\n",
       "    .dataframe tbody tr th:only-of-type {\n",
       "        vertical-align: middle;\n",
       "    }\n",
       "\n",
       "    .dataframe tbody tr th {\n",
       "        vertical-align: top;\n",
       "    }\n",
       "\n",
       "    .dataframe thead th {\n",
       "        text-align: right;\n",
       "    }\n",
       "</style>\n",
       "<table border=\"1\" class=\"dataframe\">\n",
       "  <thead>\n",
       "    <tr style=\"text-align: right;\">\n",
       "      <th></th>\n",
       "      <th>A</th>\n",
       "      <th>B</th>\n",
       "      <th>C</th>\n",
       "    </tr>\n",
       "  </thead>\n",
       "  <tbody>\n",
       "    <tr>\n",
       "      <th>01</th>\n",
       "      <td>40</td>\n",
       "      <td>high</td>\n",
       "      <td>80</td>\n",
       "    </tr>\n",
       "    <tr>\n",
       "      <th>03</th>\n",
       "      <td>30</td>\n",
       "      <td>middle</td>\n",
       "      <td>60</td>\n",
       "    </tr>\n",
       "  </tbody>\n",
       "</table>\n",
       "</div>"
      ],
      "text/plain": [
       "     A       B   C\n",
       "01  40    high  80\n",
       "03  30  middle  60"
      ]
     },
     "execution_count": 36,
     "metadata": {},
     "output_type": "execute_result"
    }
   ],
   "source": [
    "import pandas as pd\n",
    "df = pd.DataFrame([[40, \"a\", True],[20, \"b\", False],[30, \"c\", False]])\n",
    "df.index = [\"01\", \"02\", \"03\"]\n",
    "df.columns = [\"A\", \"B\", \"C\"]\n",
    "\n",
    "def judge(arg):\n",
    "    if arg < 50:\n",
    "        return \"low\"\n",
    "    elif arg < 70:\n",
    "        return \"middle\"\n",
    "    else:\n",
    "        return \"high\"\n",
    "\n",
    "df.loc[:, \"C\"] = df.iloc[:, 0] * 2\n",
    "df.loc[:, \"B\"] = df.iloc[:, 2].apply(judge)\n",
    "_ = df[\"C\"] > 50\n",
    "df = df[_]\n",
    "df"
   ]
  },
  {
   "cell_type": "code",
   "execution_count": 40,
   "metadata": {},
   "outputs": [
    {
     "name": "stdout",
     "output_type": "stream",
     "text": [
      "40 middle\n"
     ]
    }
   ],
   "source": [
    "import pandas as pd\n",
    "df = pd.DataFrame([[40, \"a\", True],[20, \"b\", False],[30, \"c\", False]])\n",
    "df.index = [\"01\", \"02\", \"03\"]\n",
    "df.columns = [\"A\", \"B\", \"C\"]\n",
    "\n",
    "def judge(arg):\n",
    "    if arg < 50:\n",
    "        return \"low\"\n",
    "    elif arg < 70:\n",
    "        return \"middle\"\n",
    "    else:\n",
    "        return \"high\"\n",
    "\n",
    "df.loc[:, \"C\"] = df.iloc[:, 0] * 2\n",
    "df.loc[:, \"B\"] = df.iloc[:, 2].apply(judge)\n",
    "_ = df[\"C\"] > 50\n",
    "df = df[_]\n",
    "print(df.iloc[0 , 0], df.iloc[1 ,1])"
   ]
  },
  {
   "cell_type": "code",
   "execution_count": 41,
   "metadata": {},
   "outputs": [],
   "source": [
    "import numpy as np\n",
    "import pandas as pd\n",
    "np.random.seed(123)\n",
    "dates = pd.date_range(start=\"2017-04-01\", periods=365) #data_range() 開始日と期間を指定\n",
    "#dates = pd.date_range(start=\"2017-04-01\", end=\"2018-03-31\")\n",
    "df = pd.DataFrame(np.random.randint(1, 31, 365), index=dates, columns=[\"rand\"])\n",
    "#np.random.randint(1, 31, 365) 1~30までの整数を365個生成\n",
    "df_year = pd.DataFrame(df.groupby(pd.Grouper(freq='W-SAT')).sum(), columns=[\"rand\"])"
   ]
  },
  {
   "cell_type": "code",
   "execution_count": 47,
   "metadata": {},
   "outputs": [
    {
     "data": {
      "text/html": [
       "<div>\n",
       "<style scoped>\n",
       "    .dataframe tbody tr th:only-of-type {\n",
       "        vertical-align: middle;\n",
       "    }\n",
       "\n",
       "    .dataframe tbody tr th {\n",
       "        vertical-align: top;\n",
       "    }\n",
       "\n",
       "    .dataframe thead th {\n",
       "        text-align: right;\n",
       "    }\n",
       "</style>\n",
       "<table border=\"1\" class=\"dataframe\">\n",
       "  <thead>\n",
       "    <tr style=\"text-align: right;\">\n",
       "      <th></th>\n",
       "      <th>rand</th>\n",
       "    </tr>\n",
       "  </thead>\n",
       "  <tbody>\n",
       "    <tr>\n",
       "      <th>2017-04-30</th>\n",
       "      <td>423</td>\n",
       "    </tr>\n",
       "    <tr>\n",
       "      <th>2017-05-31</th>\n",
       "      <td>395</td>\n",
       "    </tr>\n",
       "    <tr>\n",
       "      <th>2017-06-30</th>\n",
       "      <td>495</td>\n",
       "    </tr>\n",
       "    <tr>\n",
       "      <th>2017-07-31</th>\n",
       "      <td>472</td>\n",
       "    </tr>\n",
       "    <tr>\n",
       "      <th>2017-08-31</th>\n",
       "      <td>478</td>\n",
       "    </tr>\n",
       "    <tr>\n",
       "      <th>2017-09-30</th>\n",
       "      <td>412</td>\n",
       "    </tr>\n",
       "    <tr>\n",
       "      <th>2017-10-31</th>\n",
       "      <td>495</td>\n",
       "    </tr>\n",
       "    <tr>\n",
       "      <th>2017-11-30</th>\n",
       "      <td>472</td>\n",
       "    </tr>\n",
       "    <tr>\n",
       "      <th>2017-12-31</th>\n",
       "      <td>550</td>\n",
       "    </tr>\n",
       "    <tr>\n",
       "      <th>2018-01-31</th>\n",
       "      <td>470</td>\n",
       "    </tr>\n",
       "    <tr>\n",
       "      <th>2018-02-28</th>\n",
       "      <td>352</td>\n",
       "    </tr>\n",
       "    <tr>\n",
       "      <th>2018-03-31</th>\n",
       "      <td>542</td>\n",
       "    </tr>\n",
       "  </tbody>\n",
       "</table>\n",
       "</div>"
      ],
      "text/plain": [
       "            rand\n",
       "2017-04-30   423\n",
       "2017-05-31   395\n",
       "2017-06-30   495\n",
       "2017-07-31   472\n",
       "2017-08-31   478\n",
       "2017-09-30   412\n",
       "2017-10-31   495\n",
       "2017-11-30   472\n",
       "2017-12-31   550\n",
       "2018-01-31   470\n",
       "2018-02-28   352\n",
       "2018-03-31   542"
      ]
     },
     "execution_count": 47,
     "metadata": {},
     "output_type": "execute_result"
    }
   ],
   "source": [
    "import numpy as np\n",
    "import pandas as pd\n",
    "np.random.seed(123)\n",
    "dates = pd.date_range(start=\"2017-04-01\", periods=365) #data_range() 開始日と期間を指定\n",
    "#dates = pd.date_range(start=\"2017-04-01\", end=\"2018-03-31\")\n",
    "df = pd.DataFrame(np.random.randint(1, 31, 365), index=dates, columns=[\"rand\"])\n",
    "#np.random.randint(1, 31, 365) 1~30までの整数を365個生成\n",
    "df_year = pd.DataFrame(df.groupby(pd.Grouper(freq='M')).sum(), columns=[\"rand\"])\n",
    "df_year\n"
   ]
  },
  {
   "cell_type": "code",
   "execution_count": 50,
   "metadata": {},
   "outputs": [
    {
     "data": {
      "image/png": "[encoded data removed]",
      "text/plain": [
       "<Figure size 432x288 with 1 Axes>"
      ]
     },
     "metadata": {
      "needs_background": "light"
     },
     "output_type": "display_data"
    }
   ],
   "source": [
    "import numpy as np\n",
    "import matplotlib.pyplot as plt\n",
    "x = np.arange(0.0, 15.0, 0.1)\n",
    "y1 = np.sin(x)\n",
    "y2 = np.cos(x)\n",
    "fig, ax = plt.subplots()\n",
    "ax.plot(x, y1, label='sin')\n",
    "ax.plot(x, y2, label='cos')\n",
    "ax.legend()\n",
    "\n",
    "plt.show()"
   ]
  },
  {
   "cell_type": "code",
   "execution_count": 52,
   "metadata": {},
   "outputs": [
    {
     "data": {
      "image/png": "[encoded data removed]",
      "text/plain": [
       "<Figure size 432x288 with 1 Axes>"
      ]
     },
     "metadata": {
      "needs_background": "light"
     },
     "output_type": "display_data"
    }
   ],
   "source": [
    "import matplotlib.pyplot as plt\n",
    "fig, ax = plt.subplots()\n",
    "\n",
    "x = [1, 2, 3]\n",
    "y1 = [10, 2, 3]\n",
    "y2 = [5, 3, 6]\n",
    "labels = ['spam', 'ham', 'egg']\n",
    "y_total = [num1 + num2 for num1, num2 in zip(y1, y2)]\n",
    "ax.bar(x, y_total, tick_label=labels, label='y1')\n",
    "ax.bar(x, y2, label=labels)\n",
    "\n",
    "plt.show()"
   ]
  },
  {
   "cell_type": "code",
   "execution_count": 57,
   "metadata": {},
   "outputs": [
    {
     "name": "stdout",
     "output_type": "stream",
     "text": [
      "51.53 - 55.62 2.0\n",
      "55.62 - 59.70 3.0\n",
      "59.70 - 63.78 6.0\n",
      "63.78 - 67.86 7.0\n",
      "67.86 - 71.94 16.0\n",
      "71.94 - 76.02 29.0\n",
      "76.02 - 80.11 37.0\n",
      "80.11 - 84.19 65.0\n",
      "84.19 - 88.27 57.0\n",
      "88.27 - 92.35 90.0\n",
      "92.35 - 96.43 105.0\n",
      "96.43 - 100.51 115.0\n",
      "100.51 - 104.59 116.0\n",
      "104.59 - 108.68 78.0\n",
      "108.68 - 112.76 74.0\n",
      "112.76 - 116.84 77.0\n",
      "116.84 - 120.92 42.0\n",
      "120.92 - 125.00 41.0\n",
      "125.00 - 129.08 21.0\n",
      "129.08 - 133.17 10.0\n",
      "133.17 - 137.25 4.0\n",
      "137.25 - 141.33 2.0\n",
      "141.33 - 145.41 2.0\n",
      "145.41 - 149.49 0.0\n",
      "149.49 - 153.57 1.0\n"
     ]
    },
    {
     "data": {
      "image/png": "[encoded data removed]",
      "text/plain": [
       "<Figure size 432x288 with 1 Axes>"
      ]
     },
     "metadata": {
      "needs_background": "light"
     },
     "output_type": "display_data"
    }
   ],
   "source": [
    "import numpy as np\n",
    "import matplotlib.pyplot as plt\n",
    "np.random.seed(123)\n",
    "mu = 100\n",
    "sigma = 15\n",
    "x = np.random.normal(mu, sigma, 1000)\n",
    "fig, ax = plt.subplots()\n",
    "n, bins, patches = ax.hist(x, bins=25, orientation='horizontal')\n",
    "for i, num in enumerate(n):\n",
    "    print('{:.2f} - {:.2f} {}'.format(bins[i], bins[i + 1], num))\n",
    "\n",
    "plt.show()"
   ]
  },
  {
   "cell_type": "code",
   "execution_count": 69,
   "metadata": {},
   "outputs": [
    {
     "data": {
      "image/png": "[encoded data removed]",
      "text/plain": [
       "<Figure size 432x288 with 1 Axes>"
      ]
     },
     "metadata": {},
     "output_type": "display_data"
    }
   ],
   "source": [
    "import matplotlib.pyplot as plt\n",
    "labels = ['spam', 'ham', 'egg']\n",
    "x = [10, 3, 1]\n",
    "fig, ax = plt.subplots()\n",
    "ax.pie(x, labels=labels, counterclock=False, shadow=True, autopct='%1.2f%%')\n",
    "\n",
    "plt.show()"
   ]
  },
  {
   "cell_type": "code",
   "execution_count": 78,
   "metadata": {},
   "outputs": [],
   "source": [
    "from sklearn.datasets import load_iris\n",
    "from sklearn.model_selection import GridSearchCV\n",
    "from sklearn.tree import DecisionTreeClassifier\n",
    "from sklearn.model_selection import train_test_split\n",
    "\n",
    "iris = load_iris()\n",
    "X, y = iris.data, iris.target\n",
    "X_train, X_test, y_train, y_test = train_test_split(X, y, test_size=0.3, random_state=123)\n",
    "clf = DecisionTreeClassifier()\n",
    "param_grid = {\"max_depth\": [3, 4, 5]}\n",
    "cv = GridSearchCV(clf, param_grid=param_grid, cv=10)\n",
    "cv.fit(X_train, y_train)\n",
    "y_pred = cv.predict(X_test)"
   ]
  },
  {
   "cell_type": "code",
   "execution_count": null,
   "metadata": {},
   "outputs": [],
   "source": []
  }
 ],
 "metadata": {
  "interpreter": {
   "hash": "c338b255e3155936bd6d80b50b7a466a694e6d6fb350436c24b3cd862c7db860"
  },
  "kernelspec": {
   "display_name": "Python 3.8.12 ('qualification_for_python')",
   "language": "python",
   "name": "python3"
  },
  "language_info": {
   "codemirror_mode": {
    "name": "ipython",
    "version": 3
   },
   "file_extension": ".py",
   "mimetype": "text/x-python",
   "name": "python",
   "nbconvert_exporter": "python",
   "pygments_lexer": "ipython3",
   "version": "3.8.2"
  },
  "orig_nbformat": 4
 },
 "nbformat": 4,
 "nbformat_minor": 2
}
