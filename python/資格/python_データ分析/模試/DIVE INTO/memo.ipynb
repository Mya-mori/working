{
 "cells": [
  {
   "cell_type": "code",
   "execution_count": 1,
   "metadata": {},
   "outputs": [
    {
     "data": {
      "text/plain": [
       "array([ True,  True,  True,  True])"
      ]
     },
     "execution_count": 1,
     "metadata": {},
     "output_type": "execute_result"
    }
   ],
   "source": [
    "#1\n",
    "import numpy as np\n",
    "\n",
    "A = np.linspace(0, 2, 5)\n",
    "B = np.diff(A)*2\n",
    "B == np.ones(4)"
   ]
  },
  {
   "cell_type": "code",
   "execution_count": 2,
   "metadata": {},
   "outputs": [
    {
     "data": {
      "text/plain": [
       "array([1., 1., 1., 1.])"
      ]
     },
     "execution_count": 2,
     "metadata": {},
     "output_type": "execute_result"
    }
   ],
   "source": [
    "#np.diff()\n",
    "#数値差分を求める\n",
    "#np.linspace(0, 2, 5)\n",
    "#[0. , 0.5, 1. , 1.5, 2. ]の差分\n",
    "A = np.linspace(0, 2, 5)\n",
    "np.diff(A)*2"
   ]
  },
  {
   "cell_type": "code",
   "execution_count": 3,
   "metadata": {},
   "outputs": [
    {
     "data": {
      "text/plain": [
       "array([1])"
      ]
     },
     "execution_count": 3,
     "metadata": {},
     "output_type": "execute_result"
    }
   ],
   "source": [
    "#2\n",
    "#A @ B AとBのdot積\n",
    "#np.dot(A, B)も同様\n",
    "import numpy as np\n",
    "\n",
    "A = np.array([[1, 0]]) #1行2列\n",
    "B = np.array([1, 0]) #2行1列\n",
    "\n",
    "A @ B"
   ]
  },
  {
   "cell_type": "code",
   "execution_count": 4,
   "metadata": {},
   "outputs": [
    {
     "data": {
      "text/plain": [
       "array([1, 0])"
      ]
     },
     "execution_count": 4,
     "metadata": {},
     "output_type": "execute_result"
    }
   ],
   "source": [
    "B"
   ]
  },
  {
   "cell_type": "code",
   "execution_count": 5,
   "metadata": {},
   "outputs": [
    {
     "data": {
      "text/plain": [
       "3"
      ]
     },
     "execution_count": 5,
     "metadata": {},
     "output_type": "execute_result"
    }
   ],
   "source": [
    "#3\n",
    "#np.full((1, 5), 2) #1行5列の2を入れた配列\n",
    "#np.sum(A >= B) #Trueが1とされ, その数をカウントする\n",
    "import numpy as np\n",
    "\n",
    "A = np.array([[0, 1, 2, 3, 4]])\n",
    "B = np.full((1, 5), 2)\n",
    "np.sum(A >= B)"
   ]
  },
  {
   "cell_type": "code",
   "execution_count": 6,
   "metadata": {},
   "outputs": [
    {
     "name": "stdout",
     "output_type": "stream",
     "text": [
      "5.5\n"
     ]
    }
   ],
   "source": [
    "#4\n",
    "ans = 0\n",
    "for i in range(1, 11):\n",
    "    ans += i*1/10\n",
    "print(ans)"
   ]
  },
  {
   "cell_type": "markdown",
   "metadata": {},
   "source": [
    "5 \\\n",
    "シェルで \"deactivate\" と入力することで仮想環境を無効化 \\\n",
    "```sh\n",
    "$deactivate\n",
    "```"
   ]
  },
  {
   "cell_type": "code",
   "execution_count": 7,
   "metadata": {},
   "outputs": [
    {
     "data": {
      "text/plain": [
       "<AxesSubplot:>"
      ]
     },
     "execution_count": 7,
     "metadata": {},
     "output_type": "execute_result"
    },
    {
     "data": {
      "image/png": "[encoded data removed]",
      "text/plain": [
       "<Figure size 432x288 with 1 Axes>"
      ]
     },
     "metadata": {
      "needs_background": "light"
     },
     "output_type": "display_data"
    }
   ],
   "source": [
    "#6\n",
    "import pandas as pd\n",
    "import warnings\n",
    "warnings.simplefilter('ignore')\n",
    "\n",
    "df = pd.DataFrame(\n",
    "    {\n",
    "        \"id\" : [0, 1, 2, 3, 4],\n",
    "        \"性別\" : [\"男性\", \"女性\", \"男性\", \"女性\", \"男性\"]\n",
    "    }\n",
    ")\n",
    "\n",
    "df[\"性別\"].value_counts().plot.bar()"
   ]
  },
  {
   "cell_type": "code",
   "execution_count": 8,
   "metadata": {},
   "outputs": [
    {
     "name": "stdout",
     "output_type": "stream",
     "text": [
      "a (3, 2)\n",
      "b (2, 3)\n",
      "[[  0   1  10]\n",
      " [  0  10 100]\n",
      " [  0  11 110]]\n",
      "[[  0   1  10]\n",
      " [  0  10 100]\n",
      " [  0  11 110]]\n",
      "[[  0   1  10]\n",
      " [  0  10 100]\n",
      " [  0  11 110]]\n"
     ]
    }
   ],
   "source": [
    "#7\n",
    "import numpy as np\n",
    "\n",
    "a = np.array([[0, 1, 10], [0, 1, 10]])\n",
    "b = a.copy()\n",
    "a = a.reshape(3, 2)\n",
    "print(\"a\", a.shape)\n",
    "print(\"b\", b.shape)\n",
    "\n",
    "print(np.dot(a, b))\n",
    "print(a @ b)\n",
    "print(np.matmul(a, b))"
   ]
  },
  {
   "cell_type": "code",
   "execution_count": 9,
   "metadata": {},
   "outputs": [
    {
     "data": {
      "text/html": [
       "<div>\n",
       "<style scoped>\n",
       "    .dataframe tbody tr th:only-of-type {\n",
       "        vertical-align: middle;\n",
       "    }\n",
       "\n",
       "    .dataframe tbody tr th {\n",
       "        vertical-align: top;\n",
       "    }\n",
       "\n",
       "    .dataframe thead th {\n",
       "        text-align: right;\n",
       "    }\n",
       "</style>\n",
       "<table border=\"1\" class=\"dataframe\">\n",
       "  <thead>\n",
       "    <tr style=\"text-align: right;\">\n",
       "      <th></th>\n",
       "      <th>日付</th>\n",
       "      <th>始値</th>\n",
       "      <th>終値</th>\n",
       "      <th>増減</th>\n",
       "    </tr>\n",
       "  </thead>\n",
       "  <tbody>\n",
       "    <tr>\n",
       "      <th>0</th>\n",
       "      <td>2020/01/01</td>\n",
       "      <td>12334</td>\n",
       "      <td>12934</td>\n",
       "      <td>600</td>\n",
       "    </tr>\n",
       "    <tr>\n",
       "      <th>1</th>\n",
       "      <td>2020/01/02</td>\n",
       "      <td>12313</td>\n",
       "      <td>12345</td>\n",
       "      <td>32</td>\n",
       "    </tr>\n",
       "    <tr>\n",
       "      <th>2</th>\n",
       "      <td>2020/01/03</td>\n",
       "      <td>17352</td>\n",
       "      <td>16543</td>\n",
       "      <td>-809</td>\n",
       "    </tr>\n",
       "    <tr>\n",
       "      <th>3</th>\n",
       "      <td>2020/01/04</td>\n",
       "      <td>12342</td>\n",
       "      <td>11322</td>\n",
       "      <td>-1020</td>\n",
       "    </tr>\n",
       "    <tr>\n",
       "      <th>4</th>\n",
       "      <td>2020/01/05</td>\n",
       "      <td>13345</td>\n",
       "      <td>21111</td>\n",
       "      <td>7766</td>\n",
       "    </tr>\n",
       "  </tbody>\n",
       "</table>\n",
       "</div>"
      ],
      "text/plain": [
       "           日付     始値     終値    増減\n",
       "0  2020/01/01  12334  12934   600\n",
       "1  2020/01/02  12313  12345    32\n",
       "2  2020/01/03  17352  16543  -809\n",
       "3  2020/01/04  12342  11322 -1020\n",
       "4  2020/01/05  13345  21111  7766"
      ]
     },
     "execution_count": 9,
     "metadata": {},
     "output_type": "execute_result"
    }
   ],
   "source": [
    "#8\n",
    "import pandas as pd\n",
    "\n",
    "df = pd.DataFrame(\n",
    "    {\n",
    "        \"日付\" : [\"2020/01/01\", \"2020/01/02\", \"2020/01/03\", \"2020/01/04\", \"2020/01/05\"],\n",
    "        \"始値\" : [12334, 12313, 17352, 12342, 13345],\n",
    "        \"終値\" : [12934, 12345, 16543, 11322, 21111]\n",
    "    }\n",
    ")\n",
    "# df[\"増減\"] = df[\"終値\"] - df[\"始値\"]\n",
    "df.loc[:, \"増減\"] = df.loc[:,\"終値\"] - df.loc[:,\"始値\"]\n",
    "df"
   ]
  },
  {
   "cell_type": "code",
   "execution_count": 10,
   "metadata": {},
   "outputs": [
    {
     "data": {
      "text/html": [
       "<div>\n",
       "<style scoped>\n",
       "    .dataframe tbody tr th:only-of-type {\n",
       "        vertical-align: middle;\n",
       "    }\n",
       "\n",
       "    .dataframe tbody tr th {\n",
       "        vertical-align: top;\n",
       "    }\n",
       "\n",
       "    .dataframe thead th {\n",
       "        text-align: right;\n",
       "    }\n",
       "</style>\n",
       "<table border=\"1\" class=\"dataframe\">\n",
       "  <thead>\n",
       "    <tr style=\"text-align: right;\">\n",
       "      <th></th>\n",
       "      <th>a</th>\n",
       "      <th>b</th>\n",
       "      <th>c</th>\n",
       "    </tr>\n",
       "  </thead>\n",
       "  <tbody>\n",
       "    <tr>\n",
       "      <th>0</th>\n",
       "      <td>10</td>\n",
       "      <td>10</td>\n",
       "      <td>10</td>\n",
       "    </tr>\n",
       "    <tr>\n",
       "      <th>1</th>\n",
       "      <td>100</td>\n",
       "      <td>20</td>\n",
       "      <td>1</td>\n",
       "    </tr>\n",
       "    <tr>\n",
       "      <th>2</th>\n",
       "      <td>10</td>\n",
       "      <td>10</td>\n",
       "      <td>10</td>\n",
       "    </tr>\n",
       "    <tr>\n",
       "      <th>3</th>\n",
       "      <td>100</td>\n",
       "      <td>20</td>\n",
       "      <td>1</td>\n",
       "    </tr>\n",
       "  </tbody>\n",
       "</table>\n",
       "</div>"
      ],
      "text/plain": [
       "     a   b   c\n",
       "0   10  10  10\n",
       "1  100  20   1\n",
       "2   10  10  10\n",
       "3  100  20   1"
      ]
     },
     "execution_count": 10,
     "metadata": {},
     "output_type": "execute_result"
    }
   ],
   "source": [
    "#9\n",
    "import pandas as pd\n",
    "\n",
    "df_1 = pd.DataFrame({'a': [10, 100], 'b': [10, 20], 'c': [10, 1]})\n",
    "df_2 = pd.DataFrame({'a': [10, 100], 'b': [10, 20], 'c': [10, 1]})\n",
    "#pd.concat([df_1, df_2], axis=0).reset_index() #indexの追加, 元のindexは列になる\n",
    "pd.concat([df_1, df_2], axis=0).reset_index(drop = True) #index列を削除"
   ]
  },
  {
   "cell_type": "code",
   "execution_count": null,
   "metadata": {},
   "outputs": [],
   "source": [
    "#10\n",
    "import numpy\n",
    "#一様分布の乱数生成\n",
    "numpy.random.rand() #0.0以上、1.0未満\n",
    "numpy.random.random() #0.0以上、1.0未満\n",
    "numpy.random.randint() #任意の範囲の整数\n",
    "\n",
    "#正規分布の乱数生成\n",
    "numpy.random.randn() #平均0、分散1（標準偏差1）\n",
    "numpy.random.normal() #任意の平均、標準偏差\n",
    "\n",
    "import random\n",
    "#乱数\n",
    "random.random() #0.0以上、1.0未満\n",
    "random.uniform() #任意の範囲の整数\n"
   ]
  },
  {
   "cell_type": "code",
   "execution_count": 12,
   "metadata": {},
   "outputs": [
    {
     "data": {
      "text/html": [
       "<div>\n",
       "<style scoped>\n",
       "    .dataframe tbody tr th:only-of-type {\n",
       "        vertical-align: middle;\n",
       "    }\n",
       "\n",
       "    .dataframe tbody tr th {\n",
       "        vertical-align: top;\n",
       "    }\n",
       "\n",
       "    .dataframe thead th {\n",
       "        text-align: right;\n",
       "    }\n",
       "</style>\n",
       "<table border=\"1\" class=\"dataframe\">\n",
       "  <thead>\n",
       "    <tr style=\"text-align: right;\">\n",
       "      <th></th>\n",
       "      <th>日付</th>\n",
       "      <th>始値</th>\n",
       "      <th>終値</th>\n",
       "    </tr>\n",
       "  </thead>\n",
       "  <tbody>\n",
       "    <tr>\n",
       "      <th>0</th>\n",
       "      <td>2020/01/01</td>\n",
       "      <td>12345</td>\n",
       "      <td>12334</td>\n",
       "    </tr>\n",
       "    <tr>\n",
       "      <th>1</th>\n",
       "      <td>2020/01/02</td>\n",
       "      <td>23456</td>\n",
       "      <td>12313</td>\n",
       "    </tr>\n",
       "    <tr>\n",
       "      <th>2</th>\n",
       "      <td>2020/01/03</td>\n",
       "      <td>32141</td>\n",
       "      <td>17352</td>\n",
       "    </tr>\n",
       "    <tr>\n",
       "      <th>3</th>\n",
       "      <td>2020/01/04</td>\n",
       "      <td>23414</td>\n",
       "      <td>12342</td>\n",
       "    </tr>\n",
       "    <tr>\n",
       "      <th>4</th>\n",
       "      <td>2020/01/05</td>\n",
       "      <td>21131</td>\n",
       "      <td>13345</td>\n",
       "    </tr>\n",
       "  </tbody>\n",
       "</table>\n",
       "</div>"
      ],
      "text/plain": [
       "           日付     始値     終値\n",
       "0  2020/01/01  12345  12334\n",
       "1  2020/01/02  23456  12313\n",
       "2  2020/01/03  32141  17352\n",
       "3  2020/01/04  23414  12342\n",
       "4  2020/01/05  21131  13345"
      ]
     },
     "execution_count": 12,
     "metadata": {},
     "output_type": "execute_result"
    }
   ],
   "source": [
    "#11\n",
    "import pandas as pd\n",
    "\n",
    "df = pd.DataFrame(\n",
    "    {\n",
    "        \"日付\" : [\"2020/01/01\", \"2020/01/02\", \"2020/01/03\", \"2020/01/04\", \"2020/01/05\"],\n",
    "        \"始値\" : [12345, 23456, 32141, 23414, 21131],\n",
    "        \"終値\" : [12334, 12313, 17352, 12342, 13345]\n",
    "    }\n",
    ")\n",
    "\n",
    "df"
   ]
  },
  {
   "cell_type": "code",
   "execution_count": 13,
   "metadata": {},
   "outputs": [
    {
     "data": {
      "text/html": [
       "<div>\n",
       "<style scoped>\n",
       "    .dataframe tbody tr th:only-of-type {\n",
       "        vertical-align: middle;\n",
       "    }\n",
       "\n",
       "    .dataframe tbody tr th {\n",
       "        vertical-align: top;\n",
       "    }\n",
       "\n",
       "    .dataframe thead th {\n",
       "        text-align: right;\n",
       "    }\n",
       "</style>\n",
       "<table border=\"1\" class=\"dataframe\">\n",
       "  <thead>\n",
       "    <tr style=\"text-align: right;\">\n",
       "      <th></th>\n",
       "      <th>始値</th>\n",
       "      <th>終値</th>\n",
       "    </tr>\n",
       "    <tr>\n",
       "      <th>日付</th>\n",
       "      <th></th>\n",
       "      <th></th>\n",
       "    </tr>\n",
       "  </thead>\n",
       "  <tbody>\n",
       "    <tr>\n",
       "      <th>2020/01/01</th>\n",
       "      <td>12345</td>\n",
       "      <td>12334</td>\n",
       "    </tr>\n",
       "    <tr>\n",
       "      <th>2020/01/02</th>\n",
       "      <td>23456</td>\n",
       "      <td>12313</td>\n",
       "    </tr>\n",
       "    <tr>\n",
       "      <th>2020/01/03</th>\n",
       "      <td>32141</td>\n",
       "      <td>17352</td>\n",
       "    </tr>\n",
       "    <tr>\n",
       "      <th>2020/01/04</th>\n",
       "      <td>23414</td>\n",
       "      <td>12342</td>\n",
       "    </tr>\n",
       "    <tr>\n",
       "      <th>2020/01/05</th>\n",
       "      <td>21131</td>\n",
       "      <td>13345</td>\n",
       "    </tr>\n",
       "  </tbody>\n",
       "</table>\n",
       "</div>"
      ],
      "text/plain": [
       "               始値     終値\n",
       "日付                      \n",
       "2020/01/01  12345  12334\n",
       "2020/01/02  23456  12313\n",
       "2020/01/03  32141  17352\n",
       "2020/01/04  23414  12342\n",
       "2020/01/05  21131  13345"
      ]
     },
     "execution_count": 13,
     "metadata": {},
     "output_type": "execute_result"
    }
   ],
   "source": [
    "df.set_index(\"日付\") #日付をindexにする"
   ]
  },
  {
   "cell_type": "code",
   "execution_count": 14,
   "metadata": {},
   "outputs": [
    {
     "data": {
      "text/html": [
       "<div>\n",
       "<style scoped>\n",
       "    .dataframe tbody tr th:only-of-type {\n",
       "        vertical-align: middle;\n",
       "    }\n",
       "\n",
       "    .dataframe tbody tr th {\n",
       "        vertical-align: top;\n",
       "    }\n",
       "\n",
       "    .dataframe thead th {\n",
       "        text-align: right;\n",
       "    }\n",
       "</style>\n",
       "<table border=\"1\" class=\"dataframe\">\n",
       "  <thead>\n",
       "    <tr style=\"text-align: right;\">\n",
       "      <th></th>\n",
       "      <th>日付</th>\n",
       "      <th>始値</th>\n",
       "      <th>終値</th>\n",
       "    </tr>\n",
       "  </thead>\n",
       "  <tbody>\n",
       "    <tr>\n",
       "      <th>0</th>\n",
       "      <td>2020/01/01</td>\n",
       "      <td>12345</td>\n",
       "      <td>12334</td>\n",
       "    </tr>\n",
       "    <tr>\n",
       "      <th>1</th>\n",
       "      <td>2020/01/02</td>\n",
       "      <td>23456</td>\n",
       "      <td>12313</td>\n",
       "    </tr>\n",
       "    <tr>\n",
       "      <th>2</th>\n",
       "      <td>2020/01/03</td>\n",
       "      <td>32141</td>\n",
       "      <td>17352</td>\n",
       "    </tr>\n",
       "    <tr>\n",
       "      <th>3</th>\n",
       "      <td>2020/01/04</td>\n",
       "      <td>23414</td>\n",
       "      <td>12342</td>\n",
       "    </tr>\n",
       "    <tr>\n",
       "      <th>4</th>\n",
       "      <td>2020/01/05</td>\n",
       "      <td>21131</td>\n",
       "      <td>13345</td>\n",
       "    </tr>\n",
       "  </tbody>\n",
       "</table>\n",
       "</div>"
      ],
      "text/plain": [
       "           日付     始値     終値\n",
       "0  2020/01/01  12345  12334\n",
       "1  2020/01/02  23456  12313\n",
       "2  2020/01/03  32141  17352\n",
       "3  2020/01/04  23414  12342\n",
       "4  2020/01/05  21131  13345"
      ]
     },
     "execution_count": 14,
     "metadata": {},
     "output_type": "execute_result"
    }
   ],
   "source": [
    "df_1 = df.set_index(\"日付\") #日付をindexにする\n",
    "df_1.reset_index() #indexを元に戻す"
   ]
  },
  {
   "cell_type": "markdown",
   "metadata": {},
   "source": [
    "#12\n",
    "```bash\n",
    "!pip list\n",
    "!pip freeze\n",
    "```\n",
    "\n",
    "インストール済みのパッケージ一覧を確認"
   ]
  },
  {
   "cell_type": "code",
   "execution_count": 36,
   "metadata": {},
   "outputs": [
    {
     "name": "stdout",
     "output_type": "stream",
     "text": [
      "None\n"
     ]
    }
   ],
   "source": [
    "#13\n",
    "A = [x for x in range(10)]\n",
    "B = {x for x in range(20)}\n",
    "\n",
    "if len(A)==11:\n",
    "    print(\"A\")\n",
    "elif len(A)==10 & len(B)==20: #&を使用する時は()が必要\n",
    "    print(\"A,B\")\n",
    "else:\n",
    "    print(\"None\")"
   ]
  },
  {
   "cell_type": "code",
   "execution_count": 35,
   "metadata": {},
   "outputs": [
    {
     "name": "stdout",
     "output_type": "stream",
     "text": [
      "A,B\n"
     ]
    }
   ],
   "source": [
    "A = [x for x in range(10)]\n",
    "B = {x for x in range(20)}\n",
    "\n",
    "if len(A)==11:\n",
    "    print(\"A\")\n",
    "elif len(A)==10 and len(B)==20:\n",
    "    print(\"A,B\")\n",
    "else:\n",
    "    print(\"None\")"
   ]
  },
  {
   "cell_type": "code",
   "execution_count": 51,
   "metadata": {},
   "outputs": [
    {
     "data": {
      "text/plain": [
       "array([[1., 0.],\n",
       "       [0., 1.],\n",
       "       [0., 0.],\n",
       "       [0., 0.]])"
      ]
     },
     "execution_count": 51,
     "metadata": {},
     "output_type": "execute_result"
    }
   ],
   "source": [
    "#14\n",
    "import numpy as np\n",
    "\n",
    "A = np.eye(4)\n",
    "first, second = np.hsplit(A, [2]) #Aを2列目までに分割\n",
    "first"
   ]
  },
  {
   "cell_type": "code",
   "execution_count": 84,
   "metadata": {},
   "outputs": [
    {
     "data": {
      "text/plain": [
       "A    2\n",
       "B    7\n",
       "Name: 1, dtype: int64"
      ]
     },
     "execution_count": 84,
     "metadata": {},
     "output_type": "execute_result"
    }
   ],
   "source": [
    "#15\n",
    "import pandas as pd\n",
    "\n",
    "df = pd.DataFrame(\n",
    "    {\n",
    "        \"A\":[1,2,3,4,5],\n",
    "        \"B\":[6,7,8,9,10]\n",
    "    }\n",
    ")\n",
    "\n",
    "df.iloc[1]"
   ]
  },
  {
   "cell_type": "code",
   "execution_count": 85,
   "metadata": {},
   "outputs": [
    {
     "data": {
      "text/plain": [
       "array([0, 0, 0])"
      ]
     },
     "execution_count": 85,
     "metadata": {},
     "output_type": "execute_result"
    }
   ],
   "source": [
    "#16\n",
    "import numpy as np\n",
    "\n",
    "A = np.array([[1,2,3],[4,5,6]])\n",
    "B = A[0,:]\n",
    "A[0,:]=0\n",
    "B"
   ]
  },
  {
   "cell_type": "code",
   "execution_count": 91,
   "metadata": {},
   "outputs": [
    {
     "data": {
      "text/plain": [
       "'DIVE INTO CODE'"
      ]
     },
     "execution_count": 91,
     "metadata": {},
     "output_type": "execute_result"
    }
   ],
   "source": [
    "\n",
    "#17\n",
    "s = \"DIVE INTO CODE\"\n",
    "s.strip()"
   ]
  },
  {
   "cell_type": "code",
   "execution_count": 92,
   "metadata": {},
   "outputs": [
    {
     "data": {
      "text/plain": [
       "'DIVEINTOCODE'"
      ]
     },
     "execution_count": 92,
     "metadata": {},
     "output_type": "execute_result"
    }
   ],
   "source": [
    "s = \"DIVE INTO CODE\"\n",
    "s.replace(\" \", \"\")"
   ]
  },
  {
   "cell_type": "code",
   "execution_count": null,
   "metadata": {},
   "outputs": [],
   "source": []
  }
 ],
 "metadata": {
  "interpreter": {
   "hash": "c338b255e3155936bd6d80b50b7a466a694e6d6fb350436c24b3cd862c7db860"
  },
  "kernelspec": {
   "display_name": "Python 3.8.12 ('qualification_for_python')",
   "language": "python",
   "name": "python3"
  },
  "language_info": {
   "codemirror_mode": {
    "name": "ipython",
    "version": 3
   },
   "file_extension": ".py",
   "mimetype": "text/x-python",
   "name": "python",
   "nbconvert_exporter": "python",
   "pygments_lexer": "ipython3",
   "version": "3.8.2"
  },
  "orig_nbformat": 4
 },
 "nbformat": 4,
 "nbformat_minor": 2
}
